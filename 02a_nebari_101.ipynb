{
 "cells": [
  {
   "cell_type": "markdown",
   "id": "15067ea7-8c7d-4ef8-b43e-588b208c923c",
   "metadata": {},
   "source": [
    "# Nebari 101\n",
    "\n",
    "Please see the docs at https://www.nebari.dev\n",
    "\n",
    "## Nebari Management Links\n",
    "\n",
    "- [environment management](https://esip-ogc.nebari.dev/conda-store)\n",
    "- [monitoring](https://esip-ogc.nebari.dev/monitoring)\n",
    "- [user management](https://esip-ogc.nebari.dev/auth)\n",
    "- [workflow management](https://esip-ogc.nebari.dev/argo)"
   ]
  },
  {
   "cell_type": "markdown",
   "id": "3647a361-555d-49fa-a987-d967e911e840",
   "metadata": {},
   "source": [
    "## Live Demos:\n",
    "\n",
    "- Choosing an Instance\n",
    "- Jupyter\n",
    "- Terminal\n",
    "- VSCode"
   ]
  },
  {
   "cell_type": "markdown",
   "id": "d47ab153-90a2-47c5-8d72-407b5fd63c39",
   "metadata": {},
   "source": [
    "## Live Demo: Remote Access (ssh & sftp)\n",
    "\n",
    "- Go to https://esip-ogc.nebari.dev/hub/token\n",
    "- Create a new token\n",
    "- Copy the token\n",
    "- Open a terminal and ssh with port 8022 `ssh dharhas@esip-ogc.nebari.dev -p 8022`\n",
    "- Using tmux (https://tmuxcheatsheet.com/)\n",
    "    - Create a new session `tmux new -s mysession`\n",
    "    - Detach from session `CTRL+b d`\n",
    "    - List available session `tmux ls`\n",
    "    - Attach to a session `tmux attach -t mysession`\n",
    "    "
   ]
  },
  {
   "cell_type": "markdown",
   "id": "6bbe4d25-734b-46a7-9dd2-d2fc6aadb0a8",
   "metadata": {},
   "source": [
    "## Live Demo: Sharing your work\n",
    "\n",
    "- Place Notebooks/Data in `/Shared/<group>`\n",
    "- Use the Jupyter file browser context menu to get a shareable link\n",
    "\n",
    "Note: The shareable link is only usable by other people on the Nebari instance who have permissions to the group you placed the notebook in "
   ]
  },
  {
   "cell_type": "markdown",
   "id": "4d820514-3bc2-4ed9-a744-6e4375b38dcb",
   "metadata": {},
   "source": [
    "## Live Demo: [Environment Management](https://www.nebari.dev/tutorials/creating-new-environments)"
   ]
  },
  {
   "cell_type": "markdown",
   "id": "d74e13a6-938b-48b3-a027-bcedaa4fa839",
   "metadata": {},
   "source": [
    "Live Demo: [Monitoring](https://esip-ogc.nebari.dev/monitoring)"
   ]
  },
  {
   "cell_type": "code",
   "execution_count": null,
   "id": "92bce828-6b1c-4ac5-a956-74476e153fa8",
   "metadata": {},
   "outputs": [],
   "source": []
  }
 ],
 "metadata": {
  "kernelspec": {
   "display_name": "filesystem-ogc",
   "language": "python",
   "name": "conda-env-filesystem-ogc-py"
  },
  "language_info": {
   "codemirror_mode": {
    "name": "ipython",
    "version": 3
   },
   "file_extension": ".py",
   "mimetype": "text/x-python",
   "name": "python",
   "nbconvert_exporter": "python",
   "pygments_lexer": "ipython3",
   "version": "3.9.13"
  }
 },
 "nbformat": 4,
 "nbformat_minor": 5
}
