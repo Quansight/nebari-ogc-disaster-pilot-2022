{
 "cells": [
  {
   "cell_type": "markdown",
   "id": "39858109-9878-46d4-89af-9ea55b691be6",
   "metadata": {},
   "source": [
    "# Introduction\n",
    "\n",
    "Welcome to the OGC Disaster Pilot 2022\n",
    "\n",
    "Cloud processing of spatial data has incredible promise for rapid, scalable insights and geographic awareness, particularly in emergency and disaster situations. The only problem: it's still very difficult to deploy, tricky to limit cost, and complicated to interchange different cloud platforms."
   ]
  },
  {
   "cell_type": "markdown",
   "id": "9f1d3d67-8070-4adc-ad4a-335678bf9abb",
   "metadata": {},
   "source": [
    "# Outline\n",
    "\n",
    "1. [Introduction - What is Nebari and why should I use it?](./01_introduction.ipynb)\n",
    "2. Exploration of the features and tools available in Nebari:\n",
    "   1. [nebari 101](./02_nebari_101.ipynb)\n",
    "   2. [Using Dask on Nebari](./02b_using_dask_on_nebari.ipynb)\n",
    "3. Example Spatial Workflows\n",
    "   1. [Bathymetric Explorer](./03a_bathymetric_explorer.ipynb)\n",
    "   2. [Visualizing Gridded Data (WaveWatch)](./03b_visualize_wavewatch.ipynb)\n",
    "   3. [Exploring the National Water Model](./03c_exploring_national_water_model.ipynb)\n",
    "   4. [Analyzing Landsat 8 Collection 2 Level 2 Data](./03d_analyzing_landsat-8-c2-l2.ipynb)\n",
    "4. Useful Cloud Tools\n",
    "   1. [Running and scheduling batch workflows with KBatch](./04a_submit_batch_job.ipynb)\n",
    "   2. [Creating and sharing an interactive application](https://www.nebari.dev/tutorials/creating-cds-dashboard)\n",
    "   3. [Creating and using catalogs with Intake](./04c_data_catalogs_with_intake.ipynb)\n",
    "5. Deploy your own Nebari\n",
    "   1. Configuration & Installation\n",
    "   2. Estimating the cost of your deployment\n",
    "   3. Managing your users\n",
    "6. BYOD - Bring Your Own Data (Examples Provided)\n",
    "7. Show & Tell"
   ]
  },
  {
   "cell_type": "markdown",
   "id": "721961ae-b046-4904-b476-b89d4803164c",
   "metadata": {},
   "source": [
    "# Schedule\n",
    "\n",
    "*Note: All times in EDT*\n",
    "\n",
    "- July 7th \n",
    "  - 10:00am-12:00pm Using Nebari for Spatial Workflows (Sections 0-3)\n",
    "  - 12:30pm-02:30pm Useful Cloud Tools (Sections 4)\n",
    "  - 02:45pm-04:30pm Install & Manage Nebari (Section 5)\n",
    "- July 8th\n",
    "  - 10:00am-12:00pm BYOD/Independant Work (see help section)\n",
    "  - 01:00pm-03:00pm Show & Tell + Q&A\n",
    "\n",
    "## Getting Help During the Workshop.\n",
    "\n",
    "Use the Gitter channel: [`https://gitter.im/ogc-developer/qhub-nebari`](https://gitter.im/ogc-developer/qhub-nebari)"
   ]
  },
  {
   "cell_type": "code",
   "execution_count": null,
   "id": "41906c1e-635e-41af-a7bf-e3adaaa3445d",
   "metadata": {},
   "outputs": [],
   "source": []
  }
 ],
 "metadata": {
  "kernelspec": {
   "display_name": "filesystem-ogc",
   "language": "python",
   "name": "conda-env-filesystem-ogc-py"
  },
  "language_info": {
   "codemirror_mode": {
    "name": "ipython",
    "version": 3
   },
   "file_extension": ".py",
   "mimetype": "text/x-python",
   "name": "python",
   "nbconvert_exporter": "python",
   "pygments_lexer": "ipython3",
   "version": "3.9.13"
  }
 },
 "nbformat": 4,
 "nbformat_minor": 5
}
