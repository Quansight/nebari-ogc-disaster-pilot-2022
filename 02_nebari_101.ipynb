{
 "cells": [
  {
   "cell_type": "markdown",
   "id": "15067ea7-8c7d-4ef8-b43e-588b208c923c",
   "metadata": {},
   "source": [
    "# Nebari 101\n",
    "\n",
    "- Choosing an instance size\n",
    "- Jupyter\n",
    "- Terminal\n",
    "- VSCode\n",
    "- Remote Access\n",
    "- Nebari Quickstart\n",
    "- Navigation\n",
    "- Environments\n",
    "- Accessing Cloud Data\n",
    "- Monitoring\n",
    "- Sharing your work"
   ]
  }
 ],
 "metadata": {
  "kernelspec": {
   "display_name": "filesystem-ogc",
   "language": "python",
   "name": "conda-env-filesystem-ogc-py"
  },
  "language_info": {
   "codemirror_mode": {
    "name": "ipython",
    "version": 3
   },
   "file_extension": ".py",
   "mimetype": "text/x-python",
   "name": "python",
   "nbconvert_exporter": "python",
   "pygments_lexer": "ipython3",
   "version": "3.9.13"
  }
 },
 "nbformat": 4,
 "nbformat_minor": 5
}
