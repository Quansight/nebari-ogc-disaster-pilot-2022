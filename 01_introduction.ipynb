{
 "cells": [
  {
   "cell_type": "markdown",
   "id": "7d9ac15c-ea68-43ab-b6ce-30557780599f",
   "metadata": {},
   "source": [
    "# Introduction \n",
    "\n",
    "What is Nebari and why should I use it."
   ]
  },
  {
   "cell_type": "code",
   "execution_count": null,
   "id": "c20650ff-e648-4868-bcb8-22fc3459ec45",
   "metadata": {},
   "outputs": [],
   "source": [
    "%%html\n",
    "<iframe src=\"https://docs.google.com/presentation/d/14SuAUISru4WCGVgHmEY961AiY8ZF41h7rrrsWEVV0d8/embed?start=false&loop=false\" frameborder=\"0\" width=\"960\" height=\"569\" allowfullscreen=\"true\" mozallowfullscreen=\"true\" webkitallowfullscreen=\"true\"></iframe>"
   ]
  },
  {
   "cell_type": "code",
   "execution_count": null,
   "id": "ffdf60ab-2f1c-4158-abd1-b338817d7cfa",
   "metadata": {},
   "outputs": [],
   "source": []
  }
 ],
 "metadata": {
  "kernelspec": {
   "display_name": "filesystem-ogc",
   "language": "python",
   "name": "conda-env-filesystem-ogc-py"
  },
  "language_info": {
   "codemirror_mode": {
    "name": "ipython",
    "version": 3
   },
   "file_extension": ".py",
   "mimetype": "text/x-python",
   "name": "python",
   "nbconvert_exporter": "python",
   "pygments_lexer": "ipython3",
   "version": "3.9.13"
  }
 },
 "nbformat": 4,
 "nbformat_minor": 5
}
