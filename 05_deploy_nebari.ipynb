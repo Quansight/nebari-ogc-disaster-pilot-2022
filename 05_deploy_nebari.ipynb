{
 "cells": [
  {
   "cell_type": "markdown",
   "metadata": {},
   "source": [
    "# Deploy your own Nebari\n",
    "- Installation and deployment\n",
    "  - [Installing Nebari](https://nebari-docs.netlify.app/getting-started/installing-nebari)\n",
    "  - [Deploying Nebari on AWS](https://nebari-docs.netlify.app/how-tos/nebari-aws)\n",
    "- Estimating the cost of your deployment\n",
    "  - [Crete a cost estimate report](https://nebari-docs.netlify.app/tutorials/cost-estimate-report)\n",
    "- Managing your users\n",
    "  - [Managing users and groups using Keycloak](https://docs.qhub.dev/en/latest/source/installation/login.html)\n",
    "\n",
    "> NOTE: As mentioned elsewhere, we are currently undergoing a rename from QHub to Nebari. If instructions are unclear or you have questions, please refer to the current docs, [here](https://docs.qhub.dev/en/latest/source/installation/index.html), or reach out to us on [`gitter.im/ogc-developer/qhub-nebari`](https://gitter.im/ogc-developer/qhub-nebari)"
   ]
  }
 ],
 "metadata": {
  "language_info": {
   "name": "python"
  },
  "orig_nbformat": 4
 },
 "nbformat": 4,
 "nbformat_minor": 2
}
